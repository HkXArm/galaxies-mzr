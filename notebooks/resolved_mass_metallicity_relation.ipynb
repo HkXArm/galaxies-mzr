{
 "cells": [
  {
   "cell_type": "markdown",
   "metadata": {},
   "source": [
    "# Spatially-Resolved Mass-Metallicity Relation with MaNGA\n",
    "\n",
    "We're going to construct the spatially-resolved mass-metallicity relation (MZR) for a MaNGA galaxy, where mass refers to stellar mass and metallicity refers to gas-phase oxygen abundance.\n",
    "\n",
    "### Roadmap\n",
    "1. Compute metallicity.\n",
    "2. Select spaxels that are\n",
    "  1. star-forming, \n",
    "  2. not flagged as \"bad data,\" and\n",
    "  3. above a signal-to-noise ratio threshold.\n",
    "3. Compute stellar mass surface density.\n",
    "4. Plot metallicity as a function of stellar mass surface density."
   ]
  },
  {
   "cell_type": "markdown",
   "metadata": {},
   "source": [
    "## Key Terms\n",
    "\n",
    "**DAP**: MaNGA Data Analysis Pipeline, which fits the MaNGA data cubes with stellar continuum and emission line models to produce model data cubes and maps of measured quantities.  \n",
    "**data cube**: 3D data structure with 1D spectra arranged in a 2D spatial grid.  \n",
    "**IFU**: integral field unit  \n",
    "**Marvin**: MaNGA data access, exploration, visualization, and analysis ecosystem (web site, API, and Python package).  \n",
    "**spaxels**: spatial pixels"
   ]
  },
  {
   "cell_type": "code",
   "execution_count": null,
   "metadata": {},
   "outputs": [],
   "source": [
    "import numpy as np\n",
    "import matplotlib.pyplot as plt\n",
    "%matplotlib inline"
   ]
  },
  {
   "cell_type": "code",
   "execution_count": null,
   "metadata": {},
   "outputs": [],
   "source": [
    "import os\n",
    "from os.path import join\n",
    "path_notebooks = os.path.abspath('.')\n",
    "path_data = join(os.path.split(path_notebooks)[0], 'data')"
   ]
  },
  {
   "cell_type": "markdown",
   "metadata": {},
   "source": [
    "## Load Maps for Galaxy\n",
    "\n",
    "Download `manga-8077-6104-MAPS-SPX-GAU-MILESHC.fits.gz` from CourseWeb and move it into the `data/` directory of this repo.\n",
    "\n",
    "Then import the Marvin `Maps` class from `marvin.tools.maps` and initialize a `Maps` object using the full path to this file."
   ]
  },
  {
   "cell_type": "code",
   "execution_count": null,
   "metadata": {},
   "outputs": [],
   "source": []
  },
  {
   "cell_type": "markdown",
   "metadata": {},
   "source": [
    "## Measure Metallicity\n",
    "\n",
    "Metallicities have large systematic uncertainties depending on whether they are calibrated using the \"direct method\" or photoionization models.  The direct method relies on observations faint auroral lines that get exponentially weaker with increasing metallicity and so are difficult to use at high metallicities.  Photoionization models are suffer from weaknesses, included the need to rely on simplified geometries for HII regions.  Calibrations based on the direct method are empirical, whereas those based on photoionization models are known as theoretical calibrations.\n",
    "\n",
    "<img src=\"images/kewley2008.png\" style=\"width: 400px;\"/>\n",
    "\n",
    "This figure shows the median MZRs for various metallicity calibrations from Kewley et al. (2008).\n",
    "- Lines (1)-(4) are theoretical calibrations. \n",
    "- Lines (5)-(8) are mostly empirical calibrations.\n",
    "- Lines (9)-(10) are purely empirical calibrations.\n",
    "\n",
    "### Pettini & Pagel (2004) N2 metallicity calibration\n",
    "\n",
    "We are going to use the N2 metallicity calibration (their Equation 1) from Pettini & Pagel (2004), so go ahead and look it up now.  One of the benefits of this calibration is that the required lines are very close in wavelength, so the reddening correction is negligible.\n",
    "\n",
    "Get [NII] 6585 and Halpha flux maps from the Marvin `Maps` object.  Note: MaNGA (and Marvin) use the wavelengths of lines in vaccuum, whereas they are usually reported in air, hence the slight offsets."
   ]
  },
  {
   "cell_type": "code",
   "execution_count": null,
   "metadata": {},
   "outputs": [],
   "source": []
  },
  {
   "cell_type": "markdown",
   "metadata": {},
   "source": [
    "Calculate the necessary line ratio.\n",
    "\n",
    "Marvin can do map arithmetic, which propagates the inverse variances and masks, so you can just do `+`, `-`, `*`, `/`, and `**` operations as normal.  (Note: taking the log of a Marvin `Map` will work for the values but the inverse variance propagation does not correctly propagate the inverse variance yet.)"
   ]
  },
  {
   "cell_type": "code",
   "execution_count": null,
   "metadata": {},
   "outputs": [],
   "source": []
  },
  {
   "cell_type": "markdown",
   "metadata": {},
   "source": [
    "Finally, calculate the metallicity."
   ]
  },
  {
   "cell_type": "code",
   "execution_count": null,
   "metadata": {},
   "outputs": [],
   "source": []
  },
  {
   "cell_type": "markdown",
   "metadata": {},
   "source": [
    "## Select Spaxels\n",
    "### Using the BPT Diagram to select star-forming spaxels\n",
    "\n",
    "Metallicity indicators only work for star-forming spaxels, so we need a way to select only these spaxels.\n",
    "\n",
    "The classic diagnostic diagram for classify the emission from galaxies (or galactic sub-regions) as star-forming or non-star-forming (i.e., from active galactic nuclei (AGN) or evolved stars) was originally proposed in Baldwin, Phillips, & Terlevich (1981) and is known as the **BPT diagram**.\n",
    "\n",
    "The BPT diagram uses ratios of emission lines to separate thermal and non-thermal emission.\n",
    "\n",
    "The classic BPT diagram uses [OIII]5007 / Hbeta vs. [NII]6583 / Halpha, but there are several versions of the BPT diagram that use different lines ratios.\n",
    "\n",
    "<img src=\"bpt_kauffmann2003.png\" style=\"width: 400px;\"/>\n",
    "\n",
    "Dotted line: Kewley et al. (2001) maximal starburst.  \n",
    "Dashed line: Kauffmann et al. (2003) more useful selection criteria."
   ]
  },
  {
   "cell_type": "markdown",
   "metadata": {},
   "source": [
    "### BPT Diagrams with Marvin\n",
    "\n",
    "Let's use Marvin's `maps.get_bpt()` method to make BPT diagrams for this galaxy.\n",
    "\n",
    "**red line**: maximal starbust (Kewley et al 2001) -- everything to the right is non-star-forming.  \n",
    "**dashed black line**: conservative star-forming cut (Kauffmann et al. 2003) -- everything to the left is star-forming.\n",
    "\n",
    "Line ratios that fall in between these two lines are designated \"Composite\" with contributions from both star-forming and non-star-forming emission.\n",
    "\n",
    "**blue line**: separates non-star-forming spaxels into Seyferts and LINERs.\n",
    "\n",
    "Seyferts are a type of AGNs.\n",
    "\n",
    "LINERs (Low Ionization Nuclear Emission Regions) are not always nuclear (LIER is a better acronym) and not always AGN (oftern hot evolved stars).\n",
    "\n",
    "Sometimes these diagnostic diagrams disagree with each other, hence the \"Ambiguous\" designation.\n",
    "\n",
    "Try using `maps.get_bpt?` to read the documentation on how to use this function."
   ]
  },
  {
   "cell_type": "code",
   "execution_count": null,
   "metadata": {},
   "outputs": [],
   "source": []
  },
  {
   "cell_type": "markdown",
   "metadata": {},
   "source": [
    "The BPT masks are dictionaries of dictionaries of a boolean (True/False) arrays.  We are interested in the spaxels that are classified as star-forming in all three BPT diagrams are designated as ``True``, which is designated with the `global` key.  Print this mask."
   ]
  },
  {
   "cell_type": "code",
   "execution_count": null,
   "metadata": {},
   "outputs": [],
   "source": []
  },
  {
   "cell_type": "markdown",
   "metadata": {},
   "source": [
    "### Masks\n",
    "MaNGA (and SDSS generally) use bitmasks to communicate data quality.\n",
    "\n",
    "Marvin has built-in methods to convert from the bitmasks integer values to individual bits or labels and to create new masks by specifying a set of labels.\n",
    "\n",
    "Show the mask schema with `n2.pixmask.schema`."
   ]
  },
  {
   "cell_type": "code",
   "execution_count": null,
   "metadata": {},
   "outputs": [],
   "source": []
  },
  {
   "cell_type": "markdown",
   "metadata": {},
   "source": [
    "Select non-star-forming spaxels (from the BPT mask) and set their mask value to the DAP's DONOTUSE value with the `n2.pixmask.labels_to_value()` method.  Note that we are selecting spaxels that we want from the BPT mask (i.e., `True` is a spaxel to keep), whereas we are using the pixmask to select spaxels that we want to exclude (i.e., `True` is a spaxel to ignore)."
   ]
  },
  {
   "cell_type": "code",
   "execution_count": null,
   "metadata": {},
   "outputs": [],
   "source": []
  },
  {
   "cell_type": "markdown",
   "metadata": {},
   "source": [
    "Select spaxels classified by the DAP as bad data according to the masks for spaxels with no IFU coverage, with unreliable measurements, or otherwise unfit for science.  Use the `n2.pixmask.get_mask` method."
   ]
  },
  {
   "cell_type": "code",
   "execution_count": null,
   "metadata": {},
   "outputs": [],
   "source": []
  },
  {
   "cell_type": "markdown",
   "metadata": {},
   "source": [
    "Select spaxels with signal-to-noise ratios (SNRs) > 3 on both [NII] 6585 and Halpha.\n",
    "\n",
    "`ha.ivar` = inverse variance = $\\frac{1}{\\sigma^2}$, where $\\sigma$ is the error."
   ]
  },
  {
   "cell_type": "code",
   "execution_count": null,
   "metadata": {},
   "outputs": [],
   "source": []
  },
  {
   "cell_type": "markdown",
   "metadata": {},
   "source": [
    "Do a [bitwise (binary) OR](https://www.tutorialspoint.com/python/bitwise_operators_example.htm) to create a master mask of spaxels to ignore."
   ]
  },
  {
   "cell_type": "code",
   "execution_count": null,
   "metadata": {},
   "outputs": [],
   "source": []
  },
  {
   "cell_type": "markdown",
   "metadata": {},
   "source": [
    "## Plot the Metallicity Map\n",
    "\n",
    "Plot the map of metallicity using the `plot()` method from your Marvin `Map` metallicity object.  Also, mask undesirable spaxels and label the colorbar.\n",
    "\n",
    "Note: solar metallicity is about 8.7."
   ]
  },
  {
   "cell_type": "code",
   "execution_count": null,
   "metadata": {},
   "outputs": [],
   "source": []
  },
  {
   "cell_type": "markdown",
   "metadata": {},
   "source": [
    "## Compute Stellar Mass Surface Density\n",
    "\n",
    "1. Read in spaxel stellar mass measurements from the Firefly spectral fitting catalog (Goddard et al. 2017).\n",
    "2. Convert spaxel angular size to a physical scale in pc.\n",
    "3. Divide stellar mass by area to get stellar surface mass density.\n",
    "\n",
    "### Read in stellar masses\n",
    "\n",
    "Use [pandas](http://pandas.pydata.org/pandas-docs/stable/) to read in the csv file with stellar masses."
   ]
  },
  {
   "cell_type": "code",
   "execution_count": null,
   "metadata": {},
   "outputs": [],
   "source": []
  },
  {
   "cell_type": "markdown",
   "metadata": {},
   "source": [
    "Plot stellar mass map using `ax.imshow()`.  MaNGA maps are oriented such that you want to specify `origin='lower'`.  Also include a labelled colorbar."
   ]
  },
  {
   "cell_type": "code",
   "execution_count": null,
   "metadata": {
    "scrolled": false
   },
   "outputs": [],
   "source": []
  },
  {
   "cell_type": "markdown",
   "metadata": {},
   "source": [
    "### Calculate physical size of a spaxel\n",
    "\n",
    "MaNGA's maps (and data cubes) have a spaxel size of 0.5 arcsec. Let's convert that into a physical scale for our galaxy."
   ]
  },
  {
   "cell_type": "code",
   "execution_count": null,
   "metadata": {},
   "outputs": [],
   "source": []
  },
  {
   "cell_type": "markdown",
   "metadata": {},
   "source": [
    "Get the redshift of the galaxy from the `maps.nsa` attribute."
   ]
  },
  {
   "cell_type": "code",
   "execution_count": null,
   "metadata": {},
   "outputs": [],
   "source": []
  },
  {
   "cell_type": "markdown",
   "metadata": {},
   "source": [
    "We'll use the **small angle approximation** to estimate the physical scale:\n",
    "\n",
    "$\\theta = \\mathrm{tan}^{-1}(\\frac{d}{D}) \\approx \\frac{206,265 \\, \\mathrm{arcsec}}{1 \\, \\mathrm{radian}} \\frac{d}{D}$,\n",
    "\n",
    "where  \n",
    "$\\theta$ is the angular size of the object (in our case spaxel) in arcsec,  \n",
    "$d$ is the diameter of the object (spaxel), and  \n",
    "$D$ is the angular diameter distance.\n",
    "\n",
    "\n",
    "The distance (via the **Hubble Law** --- which is fairly accurate for low redshift objects) is\n",
    "\n",
    "$D \\approx \\frac{cz}{H_0}$,\n",
    "\n",
    "where  \n",
    "$c$ is the speed of light in km/s,  \n",
    "$z$ is the redshift, and  \n",
    "$H_0$ is the Hubble constant in km/s/Mpc.\n",
    "\n",
    "Calculate $D$."
   ]
  },
  {
   "cell_type": "code",
   "execution_count": null,
   "metadata": {},
   "outputs": [],
   "source": []
  },
  {
   "cell_type": "markdown",
   "metadata": {},
   "source": [
    "Rearrange the small angle formula to solve for the scale ($\\frac{d}{\\theta}$) in pc / arcsec."
   ]
  },
  {
   "cell_type": "code",
   "execution_count": null,
   "metadata": {},
   "outputs": [],
   "source": []
  },
  {
   "cell_type": "markdown",
   "metadata": {},
   "source": [
    "Now convert the spaxel size from arcsec to parsecs and calculate the area of a spaxel."
   ]
  },
  {
   "cell_type": "code",
   "execution_count": null,
   "metadata": {},
   "outputs": [],
   "source": []
  },
  {
   "cell_type": "markdown",
   "metadata": {},
   "source": [
    "Finally, we simply divide the stellar mass by the area to get the stellar mass surface density $\\Sigma_\\star$ in units of $\\frac{M_\\odot}{pc^2}$."
   ]
  },
  {
   "cell_type": "code",
   "execution_count": null,
   "metadata": {},
   "outputs": [],
   "source": []
  },
  {
   "cell_type": "markdown",
   "metadata": {},
   "source": [
    "Let's plot metallicity as a function of $\\Sigma_\\star$!  Remember to apply the mask.  Also set the axis range to be `[0, 4, 8, 8.8]`."
   ]
  },
  {
   "cell_type": "code",
   "execution_count": null,
   "metadata": {},
   "outputs": [],
   "source": []
  },
  {
   "cell_type": "markdown",
   "metadata": {},
   "source": [
    "### MaNGA Spatially-Resolved Mass-Metallicity Relation\n",
    "\n",
    "We have constructed the spatially-resolved MZR for one galaxy, but we are interested in understanding the evolution of galaxies in general, so we want to repeat this exercise for many galaxies.  In [Barrera-Ballesteros et al. (2016)](https://arxiv.org/pdf/1609.01740.pdf), Jorge Barrera-Ballesteros (who gave a talk at Pitt in November 2017) did just this, and here is the analogous figure for 653 disk galaxies.\n",
    "\n",
    "<img src=\"images/barrera-ballesteros_local_mzr.png\" style=\"width: 400px;\"/>"
   ]
  },
  {
   "cell_type": "markdown",
   "metadata": {},
   "source": [
    "The best fit line from Barrera-Ballesteros et al. (2016) is given in the next cell. "
   ]
  },
  {
   "cell_type": "code",
   "execution_count": null,
   "metadata": {},
   "outputs": [],
   "source": [
    "# fitting formula\n",
    "aa = 8.55\n",
    "bb = 0.014\n",
    "cc = 3.14\n",
    "xx = np.linspace(1, 3, 1000)\n",
    "yy = aa + bb * (xx - cc) * np.exp(-(xx - cc))"
   ]
  },
  {
   "cell_type": "markdown",
   "metadata": {},
   "source": [
    "Remake the spatially-resolved MZR plot for our galaxy showing the he best fit line from Barrera-Ballesteros et al. (2016)."
   ]
  },
  {
   "cell_type": "code",
   "execution_count": null,
   "metadata": {},
   "outputs": [],
   "source": []
  },
  {
   "cell_type": "markdown",
   "metadata": {},
   "source": [
    "The spaxels in our galaxy are typically above the best fit relation.  Part of the offset may be due to systematic differences in the metallicity calibrator used, but the overal trend of flat metallicity as stellar mass surface densities decreases seems to be in tension with their best fit.  It would be worth investigating this effect for more galaxies to understand if individual galaxies typically obey the best fit relation or whether they typically exhibit a flat trend in this space.\n",
    "\n",
    "\n",
    "Ultimately, Barrera-Ballesteros et al. (2016) concluded that the spatially-resolved MZR is a scaled version of the global MZR.  For instance, here is the global MZR from Tremonti et al. (2004), which has a similar shape in spite of the offset in metallicity due to the adoption of different metallicity calibration.\n",
    "\n",
    "\n",
    "<img src=\"images/tremonti2004.png\" style=\"width: 400px;\"/>"
   ]
  },
  {
   "cell_type": "code",
   "execution_count": null,
   "metadata": {},
   "outputs": [],
   "source": []
  }
 ],
 "metadata": {
  "kernelspec": {
   "display_name": "Python 3",
   "language": "python",
   "name": "python3"
  },
  "language_info": {
   "codemirror_mode": {
    "name": "ipython",
    "version": 3
   },
   "file_extension": ".py",
   "mimetype": "text/x-python",
   "name": "python",
   "nbconvert_exporter": "python",
   "pygments_lexer": "ipython3",
   "version": "3.6.1"
  }
 },
 "nbformat": 4,
 "nbformat_minor": 2
}

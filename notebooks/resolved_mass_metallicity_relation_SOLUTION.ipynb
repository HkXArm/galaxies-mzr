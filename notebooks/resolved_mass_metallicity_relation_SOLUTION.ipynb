{
 "cells": [
  {
   "cell_type": "markdown",
   "metadata": {},
   "source": [
    "# Resolved Mass-Metallicity Relation with MaNGA\n",
    "\n",
    "We're going to construct a spatially-resolved mass-metallicity relation for a MaNGA galaxy."
   ]
  },
  {
   "cell_type": "markdown",
   "metadata": {},
   "source": [
    "## Key Terms\n",
    "\n",
    "**DAP**: MaNGA Data Analysis Pipeline, which fits the MaNGA data cubes with stellar continuum and emission line models to produce model data cubes and maps of measured quantities.  \n",
    "**data cube**: 3D data structure with 1D spectra arranged in a 2D spatial grid  \n",
    "**IFU**: integral field unit  \n",
    "**spaxels**: spatial pixels"
   ]
  },
  {
   "cell_type": "code",
   "execution_count": null,
   "metadata": {},
   "outputs": [],
   "source": [
    "import numpy as np\n",
    "import matplotlib.pyplot as plt\n",
    "%matplotlib inline"
   ]
  },
  {
   "cell_type": "markdown",
   "metadata": {},
   "source": [
    "## Load Maps for Galaxy"
   ]
  },
  {
   "cell_type": "code",
   "execution_count": 2,
   "metadata": {},
   "outputs": [
    {
     "name": "stdout",
     "output_type": "stream",
     "text": [
      "INFO: No release version set. Setting default to MPL-6\n"
     ]
    }
   ],
   "source": [
    "from marvin.tools.maps import Maps"
   ]
  },
  {
   "cell_type": "code",
   "execution_count": 3,
   "metadata": {},
   "outputs": [],
   "source": [
    "# filename = ''\n",
    "# maps = Maps(filename=filename)\n",
    "maps = Maps('8485-1901')"
   ]
  },
  {
   "cell_type": "markdown",
   "metadata": {},
   "source": [
    "## Select Only Star-forming Spaxels\n",
    "\n",
    "Metallicity indicators only work for star-forming spaxels, so we need a way to select only these spaxels."
   ]
  },
  {
   "cell_type": "markdown",
   "metadata": {},
   "source": [
    "## BPT Diagram\n",
    "\n",
    "The classic diagnostic diagram for classify the emission from galaxies (or galactic sub-regions) as star-forming or non-star-forming (i.e., from active galactic nuclei (AGN) or evolved stars) was originally proposed in Baldwin, Phillips, & Terlevich (1981) and is known as the BPT diagram.\n",
    "\n",
    "The BPT diagram uses ratios of emission lines separate thermal and non-thermal emission.\n",
    "\n",
    "The classic BPT diagram uses [OIII]5007 / Hbeta vs. [NII]6583 / Halpha, but there are several versions of the BPT diagram that use different lines ratios."
   ]
  },
  {
   "cell_type": "markdown",
   "metadata": {},
   "source": [
    "<img src=\"bpt_kauffmann2003.png\" style=\"width: 400px;\"/>\n",
    "\n",
    "Dashed line: Kauffmann et al. (2003). Dotted line: Kewley et al. (2001)."
   ]
  },
  {
   "cell_type": "markdown",
   "metadata": {},
   "source": [
    "## BPT Diagrams with Marvin\n",
    "\n",
    "Let's use Marvin's `get_bpt()` method to make BPT diagrams for this galaxy.\n",
    "\n",
    "**red line**: maximal starbust (Kewley et al 2001) -- everything to the right is non-star-forming.  \n",
    "**dashed black line**: conservative star-forming cut (Kauffmann et al. 2003) -- everything to the left is star-forming.\n",
    "\n",
    "Line ratios that fall in between these two lines are designated \"Composite\" with contributions from both star-forming and non-star-forming emission.\n",
    "\n",
    "**blue line**: separates non-star-forming spaxels into Seyferts and LINERs.\n",
    "\n",
    "Seyferts are a type of AGNs.\n",
    "\n",
    "LINERs (Low Ionization Nuclear Emission Regions) are not always nuclear (LIER is a better acronym) and not always AGN (oftern hot evolved stars).\n",
    "\n",
    "Sometimes these diagnostic diagrams disagree with each other, hence the \"Ambiguous\" designation."
   ]
  },
  {
   "cell_type": "code",
   "execution_count": null,
   "metadata": {},
   "outputs": [],
   "source": [
    "masks_bpt, __, __ = maps.get_bpt()"
   ]
  },
  {
   "cell_type": "code",
   "execution_count": null,
   "metadata": {},
   "outputs": [],
   "source": [
    "# Marvin can do map arithmetic.\n",
    "# It propagates the masks and inverse variances.\n",
    "n2 = nii / ha\n",
    "\n",
    "# This does not propagate the inverse variance properly (yet).\n",
    "logn2 = np.log10(n2)"
   ]
  },
  {
   "cell_type": "markdown",
   "metadata": {},
   "source": [
    "## Measuring Metallicity\n",
    "\n",
    "Metallicities have large systematic uncertainties.\n",
    "\n",
    "Direct method vs. photoionization models\n",
    "Empirical vs. Theoretical calibrations\n"
   ]
  },
  {
   "cell_type": "markdown",
   "metadata": {},
   "source": [
    "<img src=\"images/kewley2008.png\" style=\"width: 400px;\"/>\n",
    "\n",
    "Mass-metallicity relations for various metallicity calibrations from Kewley et al. (2008).\n",
    "- Lines (1)-(4) are theoretical calibrations. \n",
    "- Lines (5)-(8) are mostly empirical calibrations.\n",
    "- Lines (9)-(10) are purely empirical calibrations."
   ]
  },
  {
   "cell_type": "markdown",
   "metadata": {},
   "source": [
    "### Pettini & Pagel (2004) N2 metallicity diagnostic\n",
    "\n",
    "12 + log (O/H) = 8.90 + 0.57 × N2,\n",
    "\n",
    "where N2 = log( flux( [NII] 6585 ) / flux( Halpha ) )"
   ]
  },
  {
   "cell_type": "code",
   "execution_count": 55,
   "metadata": {},
   "outputs": [],
   "source": [
    "# Get [NII] 6585 and Halpha maps.\n",
    "# note: MaNGA (and Marvin) use the wavelengths of lines in vaccuum,\n",
    "# whereas they are usually reported in air, hence the slight offsets\n",
    "nii = maps.emline_gflux_nii_6585\n",
    "ha = maps.emline_gflux_ha_6564"
   ]
  },
  {
   "cell_type": "code",
   "execution_count": null,
   "metadata": {},
   "outputs": [],
   "source": [
    "# Use Pettini & Pagel (2004) N2 metallicity calibration\n",
    "oh = 8.90 + 0.57 * logn2"
   ]
  },
  {
   "cell_type": "code",
   "execution_count": null,
   "metadata": {
    "scrolled": true
   },
   "outputs": [],
   "source": [
    "# This is a boolean array (True/False), where spaxels that are classified\n",
    "# as star-forming in all three BPT diagrams are designated as ``True``.\n",
    "masks_bpt['sf']['global']"
   ]
  },
  {
   "cell_type": "markdown",
   "metadata": {},
   "source": [
    "### Masks\n",
    "MaNGA (and SDSS generally) use bitmasks to communicate data quality.\n",
    "\n",
    "Marvin has built-in methods to convert from the bitmasks integer values to individual bits or labels and to create new masks by specifying a set of labels."
   ]
  },
  {
   "cell_type": "code",
   "execution_count": null,
   "metadata": {},
   "outputs": [],
   "source": [
    "# describes mask schema\n",
    "n2.pixmask.schema"
   ]
  },
  {
   "cell_type": "code",
   "execution_count": null,
   "metadata": {},
   "outputs": [],
   "source": [
    "# Select non-star-forming spaxels and set their mask value to the DAP's DONOTUSE value.\n",
    "mask_non_sf = ~masks_bpt['sf']['global'] * n2.pixmask.labels_to_value('DONOTUSE')\n",
    "\n",
    "# Select spaxels classified by the DAP as bad data according to the masks for\n",
    "# spaxels with no IFU coverage, with unreliable measurements, or otherwise\n",
    "# unfit for science.\n",
    "mask_bad_data = n2.pixmask.get_mask(['NOCOV', 'UNRELIABLE', 'DONOTUSE'])\n",
    "\n",
    "# Select spaxels with low signal-to-noise ratios (SNRs).\n",
    "# ivar = inverse variance = 1 / sigma**2, where sigma is the error.\n",
    "min_snr = 3.\n",
    "mask_nii_low_snr = (np.abs(nii.value * np.sqrt(nii.ivar)) < min_snr)\n",
    "mask_ha_low_snr = (np.abs(ha.value * np.sqrt(ha.ivar)) < min_snr)\n",
    "\n",
    "# Do a bitwise OR to create a master mask of spaxels to ignore.\n",
    "mask = mask_non_sf | mask_bad_data | mask_nii_low_snr | mask_ha_low_snr"
   ]
  },
  {
   "cell_type": "markdown",
   "metadata": {},
   "source": [
    "## Plot the Metallicity Map\n",
    "Note: solar metallicity is about 8.7."
   ]
  },
  {
   "cell_type": "code",
   "execution_count": 77,
   "metadata": {},
   "outputs": [
    {
     "data": {
      "image/png": "[encoded data removed]",
      "text/plain": [
       "<Figure size 432x288 with 2 Axes>"
      ]
     },
     "metadata": {},
     "output_type": "display_data"
    }
   ],
   "source": [
    "fig, ax = oh.plot(mask=mask, cblabel='12+log(O/H)')"
   ]
  },
  {
   "cell_type": "markdown",
   "metadata": {},
   "source": [
    "## Local Stellar Surface Density\n",
    "\n"
   ]
  },
  {
   "cell_type": "code",
   "execution_count": 61,
   "metadata": {},
   "outputs": [],
   "source": [
    "import os\n",
    "from os.path import join\n",
    "path_notebooks = os.path.abspath('.')\n",
    "path_data = join(os.path.split(path_notebooks)[0], 'data')"
   ]
  },
  {
   "cell_type": "code",
   "execution_count": 71,
   "metadata": {},
   "outputs": [],
   "source": [
    "import pandas as pd\n",
    "mstar = pd.read_csv(join(path_data, 'manga-8485-1901_mstar.csv'))"
   ]
  },
  {
   "cell_type": "code",
   "execution_count": 76,
   "metadata": {
    "scrolled": false
   },
   "outputs": [
    {
     "data": {
      "image/png": "[encoded data removed]",
      "text/plain": [
       "<Figure size 432x288 with 2 Axes>"
      ]
     },
     "metadata": {},
     "output_type": "display_data"
    }
   ],
   "source": [
    "fig, ax = oh.plot(mask=mask, cblabel='12+log(O/H)')"
   ]
  },
  {
   "cell_type": "markdown",
   "metadata": {},
   "source": [
    "### Jorge's resolved MZR\n"
   ]
  }
 ],
 "metadata": {
  "kernelspec": {
   "display_name": "Python 3",
   "language": "python",
   "name": "python3"
  },
  "language_info": {
   "codemirror_mode": {
    "name": "ipython",
    "version": 3
   },
   "file_extension": ".py",
   "git": {
    "suppress_outputs": true
   },
   "mimetype": "text/x-python",
   "name": "python",
   "nbconvert_exporter": "python",
   "pygments_lexer": "ipython3",
   "version": "3.6.1"
  }
 },
 "nbformat": 4,
 "nbformat_minor": 2
}
